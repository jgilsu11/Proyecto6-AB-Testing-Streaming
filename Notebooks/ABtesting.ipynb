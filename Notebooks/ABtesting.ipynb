{
 "cells": [
  {
   "cell_type": "code",
   "execution_count": 1,
   "metadata": {},
   "outputs": [],
   "source": [
    "#Para la limpieza y tratamiento de datos\n",
    "import pandas as pd\n",
    "import numpy as np\n",
    "\n",
    "#Efectos visuales\n",
    " # para poder visualizar todas las columnas de los DataFrames\n",
    "pd.set_option('display.max_columns', None)\n",
    " # Ignorar warings\n",
    "import warnings\n",
    "warnings.filterwarnings(\"ignore\")\n",
    "\n",
    "#Gestionar contraseñas\n",
    "import os\n",
    "import dotenv\n",
    "from dotenv import load_dotenv\n",
    "load_dotenv()\n",
    "\n",
    "#Interactuar con postgresql\n",
    "import psycopg2\n",
    "from psycopg2 import sql\n",
    "\n",
    "#Importar funciones\n",
    "import sys \n",
    "sys.path.append(os.path.abspath(\"../src\"))   \n",
    "import funciones as f\n",
    "\n",
    "#Visualizaciones\n",
    "import matplotlib.pyplot as plt\n",
    "import seaborn as sns\n",
    "\n",
    "#AB_testing\n",
    "from scipy import stats\n",
    "from statsmodels.stats.proportion import proportions_ztest\n"
   ]
  },
  {
   "cell_type": "markdown",
   "metadata": {},
   "source": [
    "## EDA  \n",
    "\n",
    "  \n",
    "**NULOS:**  \n",
    "No hay ningún valor nulo  \n",
    "\n",
    "\n",
    "**DUPLICADOS:**  \n",
    "- No hay duplicados porque cada fila corresponde a un usuario distinto  \n",
    "  \n",
    "\n",
    "**DATOS DE INTERES:**  \n",
    "Hay un total de 824 usuarios.  \n",
    "- La media de la duración del contenido está 167 minutos por encima de la mediana lo que nos indica que hay contenidos con una alta duración que nos distorsiona la media. Además observamos una gran desviación estándar (592 minutos) lo que implica duraciones muy variables por ejemplo el mínimo con 22 minutos y el máximo con 5873 minutos.Esto se explica porque es la suma de la duración de todo el contenido consumido por el usuario.    \n",
    "\n",
    "- La media de contenidos vistos está en torno a 7 contenidos mientras que la mediana se encuentra en 6. De nuevo, se observa bastante desviación (5,88) con un mínimo de contenido de 1 y un máximos de 49 contenidos. Algo peculiar, es que estas estadísticas coinciden exactaente con el número de interacciones del usuario con el contenido.  \n",
    "\n",
    "- Los estadísticos principales de los minutos vistos guardan bastante similitud con los mencionados en la duracón del contenido. Aunque eso si, cuenta con un mínimo de 2 minutos y un máximo de 4515 minutos vistos.  \n",
    "\n",
    "- En cuanto a la cantidad de categorías de contenido, se observa que la media es de 2 categorías lo que se alinea con la mediana de 2. Esto indica que la mayoría de usuarios disfrutan de entorno a 2 categorias en lugar de solo 1 o las 5 (min y max).  \n",
    "\n",
    "\n",
    "- En cuanto a la tasa de repetición, nos percatamos de como la media es de 0,57 lo que no se encuentra muy alejado de la mediana mostrando así como hay en mayor o menor medida, un equilibrio entre gente que repite su contenido y gente que no.  \n",
    "  \n",
    "\n",
    "- Vemos también un ajuste casi perfecto entre media y mediana de la valoración media que ronda las 3 estrellas.  \n",
    "\n",
    "\n",
    "En otros datos de interés, los valores más repetidos en algunas columnas son:  \n",
    "- la combinación de serie y short, la interacción en la que unicamente se añade a favoritos (97 veces) y vemos una ligera frecuencia mayor en no terminar el contenido.  \n",
    "\n",
    "\n",
    "\n",
    "***OBSERVACIONES:***  \n",
    "  \n",
    "- Me he dado cuenta de que los minutos visualizados a veces son mayores a la duración del propio contenido (He calculado una nueva columna que refleja si se terminó ono de visuzalizar el contenido)  \n",
    "\n",
    "- Me he dado cuenta de que alguno id_usuario faltaban en la base de datos por ejemplo el 9,15 y 23  \n",
    "\n",
    "- Los tamaños muestrales de reomendeito y recomendeitor plus no coinciden (432 y 392 respectivamente (52,43% y 42,57%)) lo que se tendrá que tener en cuenta en algunos test  "
   ]
  },
  {
   "cell_type": "code",
   "execution_count": 2,
   "metadata": {},
   "outputs": [],
   "source": [
    "key= os.getenv(\"key\")"
   ]
  },
  {
   "cell_type": "code",
   "execution_count": 3,
   "metadata": {},
   "outputs": [],
   "source": [
    "conexion=f.iniciar_conexion(\"localhost\",\"postgres\",key,5432,\"Streaming_proyect\")"
   ]
  },
  {
   "cell_type": "code",
   "execution_count": 4,
   "metadata": {},
   "outputs": [],
   "source": [
    "cursor=conexion.cursor()\n",
    "query_df=\"\"\" \n",
    "SELECT u.id AS id_usuario, user_type AS tipo_usuario, u.recommendation_system AS recomendacion_usuario,c.id AS id_contenido,c.duration AS duracion_contenido,c.content_type AS tipo_contenido,c.rating AS valoracion_contenido,v.id AS id_views, v.user_id AS id_usuario_views, v.content_id AS id_contenido_views, duration_viewed AS minutos_vistos , v.recommendation_system AS recomendacion_views,ui.id AS id_interaccion,ui.user_id AS id_usuario_interaccion,ui.content_id AS id_contenido_interaccion,ui.interaction_type AS tipo_interaccion \n",
    "FROM users u \n",
    "INNER JOIN \"views\" v ON u.id = v.user_id \n",
    "INNER JOIN user_interactions ui ON u.id = ui.user_id \n",
    "INNER JOIN \"content\" c ON c.id = v.content_id;\n",
    "\n",
    "\"\"\"\n",
    "lista_encabezados=['id_usuario', 'tipo_usuario', 'recomendacion_usuario', 'id_contenido', 'duracion_contenido', 'tipo_contenido', \n",
    " 'valoracion_contenido', 'numero_views', 'id_usuario_views', 'id_contenido_views', 'minutos_vistos', \n",
    " 'recomendacion_views', 'numero_interaccion', 'id_usuario_interaccion', 'id_contenido_interaccion', 'tipo_interaccion']\n",
    "\n",
    "\n",
    "cursor.execute(query_df)   \n",
    "df=pd.DataFrame(cursor.fetchall(), columns= lista_encabezados)\n"
   ]
  },
  {
   "cell_type": "markdown",
   "metadata": {},
   "source": [
    "Me he dado cuenta de que los minutos visualizados a veces son mayores que la duración del propio contenido"
   ]
  },
  {
   "cell_type": "code",
   "execution_count": 5,
   "metadata": {},
   "outputs": [
    {
     "data": {
      "text/html": [
       "<div>\n",
       "<style scoped>\n",
       "    .dataframe tbody tr th:only-of-type {\n",
       "        vertical-align: middle;\n",
       "    }\n",
       "\n",
       "    .dataframe tbody tr th {\n",
       "        vertical-align: top;\n",
       "    }\n",
       "\n",
       "    .dataframe thead th {\n",
       "        text-align: right;\n",
       "    }\n",
       "</style>\n",
       "<table border=\"1\" class=\"dataframe\">\n",
       "  <thead>\n",
       "    <tr style=\"text-align: right;\">\n",
       "      <th></th>\n",
       "      <th>id_usuario</th>\n",
       "      <th>tipo_usuario</th>\n",
       "      <th>recomendacion_usuario</th>\n",
       "      <th>id_contenido</th>\n",
       "      <th>duracion_contenido</th>\n",
       "      <th>tipo_contenido</th>\n",
       "      <th>valoracion_contenido</th>\n",
       "      <th>numero_views</th>\n",
       "      <th>id_usuario_views</th>\n",
       "      <th>id_contenido_views</th>\n",
       "      <th>minutos_vistos</th>\n",
       "      <th>recomendacion_views</th>\n",
       "      <th>numero_interaccion</th>\n",
       "      <th>id_usuario_interaccion</th>\n",
       "      <th>id_contenido_interaccion</th>\n",
       "      <th>tipo_interaccion</th>\n",
       "    </tr>\n",
       "  </thead>\n",
       "  <tbody>\n",
       "    <tr>\n",
       "      <th>1887</th>\n",
       "      <td>2</td>\n",
       "      <td>moderator</td>\n",
       "      <td>Recomendeitor</td>\n",
       "      <td>102</td>\n",
       "      <td>23</td>\n",
       "      <td>documentary</td>\n",
       "      <td>2.2</td>\n",
       "      <td>949</td>\n",
       "      <td>2</td>\n",
       "      <td>102</td>\n",
       "      <td>129</td>\n",
       "      <td>Recomendeitor</td>\n",
       "      <td>235</td>\n",
       "      <td>2</td>\n",
       "      <td>19</td>\n",
       "      <td>share</td>\n",
       "    </tr>\n",
       "  </tbody>\n",
       "</table>\n",
       "</div>"
      ],
      "text/plain": [
       "      id_usuario tipo_usuario recomendacion_usuario  id_contenido  \\\n",
       "1887           2    moderator         Recomendeitor           102   \n",
       "\n",
       "      duracion_contenido tipo_contenido valoracion_contenido  numero_views  \\\n",
       "1887                  23    documentary                  2.2           949   \n",
       "\n",
       "      id_usuario_views  id_contenido_views  minutos_vistos  \\\n",
       "1887                 2                 102             129   \n",
       "\n",
       "     recomendacion_views  numero_interaccion  id_usuario_interaccion  \\\n",
       "1887       Recomendeitor                 235                       2   \n",
       "\n",
       "      id_contenido_interaccion tipo_interaccion  \n",
       "1887                        19            share  "
      ]
     },
     "execution_count": 5,
     "metadata": {},
     "output_type": "execute_result"
    }
   ],
   "source": [
    "df[df[\"id_usuario\"]== 2]"
   ]
  },
  {
   "cell_type": "code",
   "execution_count": 6,
   "metadata": {},
   "outputs": [
    {
     "data": {
      "text/html": [
       "<div>\n",
       "<style scoped>\n",
       "    .dataframe tbody tr th:only-of-type {\n",
       "        vertical-align: middle;\n",
       "    }\n",
       "\n",
       "    .dataframe tbody tr th {\n",
       "        vertical-align: top;\n",
       "    }\n",
       "\n",
       "    .dataframe thead th {\n",
       "        text-align: right;\n",
       "    }\n",
       "</style>\n",
       "<table border=\"1\" class=\"dataframe\">\n",
       "  <thead>\n",
       "    <tr style=\"text-align: right;\">\n",
       "      <th></th>\n",
       "      <th>id_usuario</th>\n",
       "      <th>tipo_usuario</th>\n",
       "      <th>recomendacion_usuario</th>\n",
       "      <th>id_contenido</th>\n",
       "      <th>duracion_contenido</th>\n",
       "      <th>tipo_contenido</th>\n",
       "      <th>valoracion_contenido</th>\n",
       "      <th>numero_views</th>\n",
       "      <th>id_usuario_views</th>\n",
       "      <th>id_contenido_views</th>\n",
       "      <th>minutos_vistos</th>\n",
       "      <th>recomendacion_views</th>\n",
       "      <th>numero_interaccion</th>\n",
       "      <th>id_usuario_interaccion</th>\n",
       "      <th>id_contenido_interaccion</th>\n",
       "      <th>tipo_interaccion</th>\n",
       "    </tr>\n",
       "  </thead>\n",
       "  <tbody>\n",
       "    <tr>\n",
       "      <th>0</th>\n",
       "      <td>214</td>\n",
       "      <td>moderator</td>\n",
       "      <td>Recomendeitor_Plus</td>\n",
       "      <td>153</td>\n",
       "      <td>92</td>\n",
       "      <td>movie</td>\n",
       "      <td>2.5</td>\n",
       "      <td>1</td>\n",
       "      <td>214</td>\n",
       "      <td>153</td>\n",
       "      <td>107</td>\n",
       "      <td>Recomendeitor</td>\n",
       "      <td>1787</td>\n",
       "      <td>214</td>\n",
       "      <td>167</td>\n",
       "      <td>favorite</td>\n",
       "    </tr>\n",
       "    <tr>\n",
       "      <th>1</th>\n",
       "      <td>214</td>\n",
       "      <td>moderator</td>\n",
       "      <td>Recomendeitor_Plus</td>\n",
       "      <td>153</td>\n",
       "      <td>92</td>\n",
       "      <td>movie</td>\n",
       "      <td>2.5</td>\n",
       "      <td>1</td>\n",
       "      <td>214</td>\n",
       "      <td>153</td>\n",
       "      <td>107</td>\n",
       "      <td>Recomendeitor</td>\n",
       "      <td>1271</td>\n",
       "      <td>214</td>\n",
       "      <td>180</td>\n",
       "      <td>share</td>\n",
       "    </tr>\n",
       "    <tr>\n",
       "      <th>2</th>\n",
       "      <td>214</td>\n",
       "      <td>moderator</td>\n",
       "      <td>Recomendeitor_Plus</td>\n",
       "      <td>153</td>\n",
       "      <td>92</td>\n",
       "      <td>movie</td>\n",
       "      <td>2.5</td>\n",
       "      <td>1</td>\n",
       "      <td>214</td>\n",
       "      <td>153</td>\n",
       "      <td>107</td>\n",
       "      <td>Recomendeitor</td>\n",
       "      <td>1112</td>\n",
       "      <td>214</td>\n",
       "      <td>21</td>\n",
       "      <td>favorite</td>\n",
       "    </tr>\n",
       "    <tr>\n",
       "      <th>3</th>\n",
       "      <td>214</td>\n",
       "      <td>moderator</td>\n",
       "      <td>Recomendeitor_Plus</td>\n",
       "      <td>153</td>\n",
       "      <td>92</td>\n",
       "      <td>movie</td>\n",
       "      <td>2.5</td>\n",
       "      <td>1</td>\n",
       "      <td>214</td>\n",
       "      <td>153</td>\n",
       "      <td>107</td>\n",
       "      <td>Recomendeitor</td>\n",
       "      <td>559</td>\n",
       "      <td>214</td>\n",
       "      <td>91</td>\n",
       "      <td>like</td>\n",
       "    </tr>\n",
       "    <tr>\n",
       "      <th>4</th>\n",
       "      <td>214</td>\n",
       "      <td>moderator</td>\n",
       "      <td>Recomendeitor_Plus</td>\n",
       "      <td>153</td>\n",
       "      <td>92</td>\n",
       "      <td>movie</td>\n",
       "      <td>2.5</td>\n",
       "      <td>1</td>\n",
       "      <td>214</td>\n",
       "      <td>153</td>\n",
       "      <td>107</td>\n",
       "      <td>Recomendeitor</td>\n",
       "      <td>446</td>\n",
       "      <td>214</td>\n",
       "      <td>80</td>\n",
       "      <td>favorite</td>\n",
       "    </tr>\n",
       "  </tbody>\n",
       "</table>\n",
       "</div>"
      ],
      "text/plain": [
       "   id_usuario tipo_usuario recomendacion_usuario  id_contenido  \\\n",
       "0         214    moderator    Recomendeitor_Plus           153   \n",
       "1         214    moderator    Recomendeitor_Plus           153   \n",
       "2         214    moderator    Recomendeitor_Plus           153   \n",
       "3         214    moderator    Recomendeitor_Plus           153   \n",
       "4         214    moderator    Recomendeitor_Plus           153   \n",
       "\n",
       "   duracion_contenido tipo_contenido valoracion_contenido  numero_views  \\\n",
       "0                  92          movie                  2.5             1   \n",
       "1                  92          movie                  2.5             1   \n",
       "2                  92          movie                  2.5             1   \n",
       "3                  92          movie                  2.5             1   \n",
       "4                  92          movie                  2.5             1   \n",
       "\n",
       "   id_usuario_views  id_contenido_views  minutos_vistos recomendacion_views  \\\n",
       "0               214                 153             107       Recomendeitor   \n",
       "1               214                 153             107       Recomendeitor   \n",
       "2               214                 153             107       Recomendeitor   \n",
       "3               214                 153             107       Recomendeitor   \n",
       "4               214                 153             107       Recomendeitor   \n",
       "\n",
       "   numero_interaccion  id_usuario_interaccion  id_contenido_interaccion  \\\n",
       "0                1787                     214                       167   \n",
       "1                1271                     214                       180   \n",
       "2                1112                     214                        21   \n",
       "3                 559                     214                        91   \n",
       "4                 446                     214                        80   \n",
       "\n",
       "  tipo_interaccion  \n",
       "0         favorite  \n",
       "1            share  \n",
       "2         favorite  \n",
       "3             like  \n",
       "4         favorite  "
      ]
     },
     "execution_count": 6,
     "metadata": {},
     "output_type": "execute_result"
    }
   ],
   "source": [
    "df.head()"
   ]
  },
  {
   "cell_type": "code",
   "execution_count": 7,
   "metadata": {},
   "outputs": [
    {
     "name": "stdout",
     "output_type": "stream",
     "text": [
      "<class 'pandas.core.frame.DataFrame'>\n",
      "RangeIndex: 6013 entries, 0 to 6012\n",
      "Data columns (total 16 columns):\n",
      " #   Column                    Non-Null Count  Dtype \n",
      "---  ------                    --------------  ----- \n",
      " 0   id_usuario                6013 non-null   int64 \n",
      " 1   tipo_usuario              6013 non-null   object\n",
      " 2   recomendacion_usuario     6013 non-null   object\n",
      " 3   id_contenido              6013 non-null   int64 \n",
      " 4   duracion_contenido        6013 non-null   int64 \n",
      " 5   tipo_contenido            6013 non-null   object\n",
      " 6   valoracion_contenido      6013 non-null   object\n",
      " 7   numero_views              6013 non-null   int64 \n",
      " 8   id_usuario_views          6013 non-null   int64 \n",
      " 9   id_contenido_views        6013 non-null   int64 \n",
      " 10  minutos_vistos            6013 non-null   int64 \n",
      " 11  recomendacion_views       6013 non-null   object\n",
      " 12  numero_interaccion        6013 non-null   int64 \n",
      " 13  id_usuario_interaccion    6013 non-null   int64 \n",
      " 14  id_contenido_interaccion  6013 non-null   int64 \n",
      " 15  tipo_interaccion          6013 non-null   object\n",
      "dtypes: int64(10), object(6)\n",
      "memory usage: 751.8+ KB\n"
     ]
    }
   ],
   "source": [
    "df.info()"
   ]
  },
  {
   "cell_type": "code",
   "execution_count": 8,
   "metadata": {},
   "outputs": [
    {
     "data": {
      "text/html": [
       "<div>\n",
       "<style scoped>\n",
       "    .dataframe tbody tr th:only-of-type {\n",
       "        vertical-align: middle;\n",
       "    }\n",
       "\n",
       "    .dataframe tbody tr th {\n",
       "        vertical-align: top;\n",
       "    }\n",
       "\n",
       "    .dataframe thead th {\n",
       "        text-align: right;\n",
       "    }\n",
       "</style>\n",
       "<table border=\"1\" class=\"dataframe\">\n",
       "  <thead>\n",
       "    <tr style=\"text-align: right;\">\n",
       "      <th></th>\n",
       "      <th>count</th>\n",
       "      <th>mean</th>\n",
       "      <th>std</th>\n",
       "      <th>min</th>\n",
       "      <th>25%</th>\n",
       "      <th>50%</th>\n",
       "      <th>75%</th>\n",
       "      <th>max</th>\n",
       "    </tr>\n",
       "  </thead>\n",
       "  <tbody>\n",
       "    <tr>\n",
       "      <th>id_usuario</th>\n",
       "      <td>6013.0</td>\n",
       "      <td>510.898054</td>\n",
       "      <td>287.277034</td>\n",
       "      <td>1.0</td>\n",
       "      <td>256.0</td>\n",
       "      <td>503.0</td>\n",
       "      <td>767.0</td>\n",
       "      <td>999.0</td>\n",
       "    </tr>\n",
       "    <tr>\n",
       "      <th>id_contenido</th>\n",
       "      <td>6013.0</td>\n",
       "      <td>100.245136</td>\n",
       "      <td>57.396154</td>\n",
       "      <td>1.0</td>\n",
       "      <td>52.0</td>\n",
       "      <td>100.0</td>\n",
       "      <td>150.0</td>\n",
       "      <td>200.0</td>\n",
       "    </tr>\n",
       "    <tr>\n",
       "      <th>duracion_contenido</th>\n",
       "      <td>6013.0</td>\n",
       "      <td>93.209546</td>\n",
       "      <td>50.445804</td>\n",
       "      <td>10.0</td>\n",
       "      <td>46.0</td>\n",
       "      <td>91.0</td>\n",
       "      <td>139.0</td>\n",
       "      <td>178.0</td>\n",
       "    </tr>\n",
       "    <tr>\n",
       "      <th>numero_views</th>\n",
       "      <td>6013.0</td>\n",
       "      <td>1482.385831</td>\n",
       "      <td>859.185107</td>\n",
       "      <td>1.0</td>\n",
       "      <td>735.0</td>\n",
       "      <td>1489.0</td>\n",
       "      <td>2217.0</td>\n",
       "      <td>2998.0</td>\n",
       "    </tr>\n",
       "    <tr>\n",
       "      <th>id_usuario_views</th>\n",
       "      <td>6013.0</td>\n",
       "      <td>510.898054</td>\n",
       "      <td>287.277034</td>\n",
       "      <td>1.0</td>\n",
       "      <td>256.0</td>\n",
       "      <td>503.0</td>\n",
       "      <td>767.0</td>\n",
       "      <td>999.0</td>\n",
       "    </tr>\n",
       "    <tr>\n",
       "      <th>id_contenido_views</th>\n",
       "      <td>6013.0</td>\n",
       "      <td>100.245136</td>\n",
       "      <td>57.396154</td>\n",
       "      <td>1.0</td>\n",
       "      <td>52.0</td>\n",
       "      <td>100.0</td>\n",
       "      <td>150.0</td>\n",
       "      <td>200.0</td>\n",
       "    </tr>\n",
       "    <tr>\n",
       "      <th>minutos_vistos</th>\n",
       "      <td>6013.0</td>\n",
       "      <td>87.421088</td>\n",
       "      <td>51.344747</td>\n",
       "      <td>1.0</td>\n",
       "      <td>43.0</td>\n",
       "      <td>85.0</td>\n",
       "      <td>131.0</td>\n",
       "      <td>179.0</td>\n",
       "    </tr>\n",
       "    <tr>\n",
       "      <th>numero_interaccion</th>\n",
       "      <td>6013.0</td>\n",
       "      <td>1010.408282</td>\n",
       "      <td>573.870375</td>\n",
       "      <td>1.0</td>\n",
       "      <td>517.0</td>\n",
       "      <td>1015.0</td>\n",
       "      <td>1514.0</td>\n",
       "      <td>2000.0</td>\n",
       "    </tr>\n",
       "    <tr>\n",
       "      <th>id_usuario_interaccion</th>\n",
       "      <td>6013.0</td>\n",
       "      <td>510.898054</td>\n",
       "      <td>287.277034</td>\n",
       "      <td>1.0</td>\n",
       "      <td>256.0</td>\n",
       "      <td>503.0</td>\n",
       "      <td>767.0</td>\n",
       "      <td>999.0</td>\n",
       "    </tr>\n",
       "    <tr>\n",
       "      <th>id_contenido_interaccion</th>\n",
       "      <td>6013.0</td>\n",
       "      <td>98.859970</td>\n",
       "      <td>57.819729</td>\n",
       "      <td>1.0</td>\n",
       "      <td>49.0</td>\n",
       "      <td>98.0</td>\n",
       "      <td>148.0</td>\n",
       "      <td>200.0</td>\n",
       "    </tr>\n",
       "  </tbody>\n",
       "</table>\n",
       "</div>"
      ],
      "text/plain": [
       "                           count         mean         std   min    25%  \\\n",
       "id_usuario                6013.0   510.898054  287.277034   1.0  256.0   \n",
       "id_contenido              6013.0   100.245136   57.396154   1.0   52.0   \n",
       "duracion_contenido        6013.0    93.209546   50.445804  10.0   46.0   \n",
       "numero_views              6013.0  1482.385831  859.185107   1.0  735.0   \n",
       "id_usuario_views          6013.0   510.898054  287.277034   1.0  256.0   \n",
       "id_contenido_views        6013.0   100.245136   57.396154   1.0   52.0   \n",
       "minutos_vistos            6013.0    87.421088   51.344747   1.0   43.0   \n",
       "numero_interaccion        6013.0  1010.408282  573.870375   1.0  517.0   \n",
       "id_usuario_interaccion    6013.0   510.898054  287.277034   1.0  256.0   \n",
       "id_contenido_interaccion  6013.0    98.859970   57.819729   1.0   49.0   \n",
       "\n",
       "                             50%     75%     max  \n",
       "id_usuario                 503.0   767.0   999.0  \n",
       "id_contenido               100.0   150.0   200.0  \n",
       "duracion_contenido          91.0   139.0   178.0  \n",
       "numero_views              1489.0  2217.0  2998.0  \n",
       "id_usuario_views           503.0   767.0   999.0  \n",
       "id_contenido_views         100.0   150.0   200.0  \n",
       "minutos_vistos              85.0   131.0   179.0  \n",
       "numero_interaccion        1015.0  1514.0  2000.0  \n",
       "id_usuario_interaccion     503.0   767.0   999.0  \n",
       "id_contenido_interaccion    98.0   148.0   200.0  "
      ]
     },
     "execution_count": 8,
     "metadata": {},
     "output_type": "execute_result"
    }
   ],
   "source": [
    "df.describe().T"
   ]
  },
  {
   "cell_type": "code",
   "execution_count": 9,
   "metadata": {},
   "outputs": [
    {
     "data": {
      "text/html": [
       "<div>\n",
       "<style scoped>\n",
       "    .dataframe tbody tr th:only-of-type {\n",
       "        vertical-align: middle;\n",
       "    }\n",
       "\n",
       "    .dataframe tbody tr th {\n",
       "        vertical-align: top;\n",
       "    }\n",
       "\n",
       "    .dataframe thead th {\n",
       "        text-align: right;\n",
       "    }\n",
       "</style>\n",
       "<table border=\"1\" class=\"dataframe\">\n",
       "  <thead>\n",
       "    <tr style=\"text-align: right;\">\n",
       "      <th></th>\n",
       "      <th>count</th>\n",
       "      <th>unique</th>\n",
       "      <th>top</th>\n",
       "      <th>freq</th>\n",
       "    </tr>\n",
       "  </thead>\n",
       "  <tbody>\n",
       "    <tr>\n",
       "      <th>tipo_usuario</th>\n",
       "      <td>6013</td>\n",
       "      <td>4</td>\n",
       "      <td>content_creator</td>\n",
       "      <td>1565</td>\n",
       "    </tr>\n",
       "    <tr>\n",
       "      <th>recomendacion_usuario</th>\n",
       "      <td>6013</td>\n",
       "      <td>2</td>\n",
       "      <td>Recomendeitor</td>\n",
       "      <td>3075</td>\n",
       "    </tr>\n",
       "    <tr>\n",
       "      <th>tipo_contenido</th>\n",
       "      <td>6013</td>\n",
       "      <td>5</td>\n",
       "      <td>short</td>\n",
       "      <td>1362</td>\n",
       "    </tr>\n",
       "    <tr>\n",
       "      <th>valoracion_contenido</th>\n",
       "      <td>6013</td>\n",
       "      <td>41</td>\n",
       "      <td>3.9</td>\n",
       "      <td>297</td>\n",
       "    </tr>\n",
       "    <tr>\n",
       "      <th>recomendacion_views</th>\n",
       "      <td>6013</td>\n",
       "      <td>2</td>\n",
       "      <td>Recomendeitor_Plus</td>\n",
       "      <td>3083</td>\n",
       "    </tr>\n",
       "    <tr>\n",
       "      <th>tipo_interaccion</th>\n",
       "      <td>6013</td>\n",
       "      <td>4</td>\n",
       "      <td>favorite</td>\n",
       "      <td>1603</td>\n",
       "    </tr>\n",
       "  </tbody>\n",
       "</table>\n",
       "</div>"
      ],
      "text/plain": [
       "                      count unique                 top  freq\n",
       "tipo_usuario           6013      4     content_creator  1565\n",
       "recomendacion_usuario  6013      2       Recomendeitor  3075\n",
       "tipo_contenido         6013      5               short  1362\n",
       "valoracion_contenido   6013     41                 3.9   297\n",
       "recomendacion_views    6013      2  Recomendeitor_Plus  3083\n",
       "tipo_interaccion       6013      4            favorite  1603"
      ]
     },
     "execution_count": 9,
     "metadata": {},
     "output_type": "execute_result"
    }
   ],
   "source": [
    "df.describe(include=\"O\").T"
   ]
  },
  {
   "cell_type": "code",
   "execution_count": 10,
   "metadata": {},
   "outputs": [
    {
     "data": {
      "text/plain": [
       "np.int64(0)"
      ]
     },
     "execution_count": 10,
     "metadata": {},
     "output_type": "execute_result"
    }
   ],
   "source": [
    "df.duplicated().sum()"
   ]
  },
  {
   "cell_type": "code",
   "execution_count": 11,
   "metadata": {},
   "outputs": [],
   "source": [
    "# df.groupby(\"id_usuario\")[[\"minutos_vistos\",\"duracion_contenido\"]].sum()"
   ]
  },
  {
   "cell_type": "code",
   "execution_count": 12,
   "metadata": {},
   "outputs": [],
   "source": [
    "\n",
    "\n",
    "#agrupo por id usuario y aplico funciones de agregación al resto porque nos obliga (aunque tenga que pasar a lista( meto set porque así no se pueden repetir valores))\n",
    "df_usuarios = df.groupby(\"id_usuario\").agg({      #asi puedo aplicar funciones de agregacion a todo junto sin tener que hacerlo por separado\n",
    "    'tipo_usuario': 'first',  \n",
    "    'recomendacion_usuario': 'first',  \n",
    "    'id_contenido': lambda x: list(set(x)),  \n",
    "    'duracion_contenido': 'sum',  \n",
    "    'tipo_contenido': lambda x: list(set(x)),  \n",
    "    'valoracion_contenido': lambda x: list(set(x)),  \n",
    "    'numero_views': 'count',  \n",
    "    'minutos_vistos': 'sum',  \n",
    "    'recomendacion_views':'first',  \n",
    "    'numero_interaccion': 'count',  \n",
    "    'tipo_interaccion': lambda x: list(set(x))  \n",
    "}).reset_index()\n",
    "\n",
    "\n"
   ]
  },
  {
   "cell_type": "code",
   "execution_count": 13,
   "metadata": {},
   "outputs": [
    {
     "data": {
      "text/html": [
       "<div>\n",
       "<style scoped>\n",
       "    .dataframe tbody tr th:only-of-type {\n",
       "        vertical-align: middle;\n",
       "    }\n",
       "\n",
       "    .dataframe tbody tr th {\n",
       "        vertical-align: top;\n",
       "    }\n",
       "\n",
       "    .dataframe thead th {\n",
       "        text-align: right;\n",
       "    }\n",
       "</style>\n",
       "<table border=\"1\" class=\"dataframe\">\n",
       "  <thead>\n",
       "    <tr style=\"text-align: right;\">\n",
       "      <th></th>\n",
       "      <th>id_usuario</th>\n",
       "      <th>tipo_usuario</th>\n",
       "      <th>recomendacion_usuario</th>\n",
       "      <th>id_contenido</th>\n",
       "      <th>duracion_contenido</th>\n",
       "      <th>tipo_contenido</th>\n",
       "      <th>valoracion_contenido</th>\n",
       "      <th>numero_views</th>\n",
       "      <th>minutos_vistos</th>\n",
       "      <th>recomendacion_views</th>\n",
       "      <th>numero_interaccion</th>\n",
       "      <th>tipo_interaccion</th>\n",
       "    </tr>\n",
       "  </thead>\n",
       "  <tbody>\n",
       "    <tr>\n",
       "      <th>0</th>\n",
       "      <td>1</td>\n",
       "      <td>moderator</td>\n",
       "      <td>Recomendeitor_Plus</td>\n",
       "      <td>[71, 12, 18, 53, 62]</td>\n",
       "      <td>1304</td>\n",
       "      <td>[live, short, documentary, movie]</td>\n",
       "      <td>[1.1, 4.6, 1.7, 4.2, 4.7]</td>\n",
       "      <td>20</td>\n",
       "      <td>1380</td>\n",
       "      <td>Recomendeitor_Plus</td>\n",
       "      <td>20</td>\n",
       "      <td>[comment, favorite, share]</td>\n",
       "    </tr>\n",
       "    <tr>\n",
       "      <th>1</th>\n",
       "      <td>2</td>\n",
       "      <td>moderator</td>\n",
       "      <td>Recomendeitor</td>\n",
       "      <td>[102]</td>\n",
       "      <td>23</td>\n",
       "      <td>[documentary]</td>\n",
       "      <td>[2.2]</td>\n",
       "      <td>1</td>\n",
       "      <td>129</td>\n",
       "      <td>Recomendeitor</td>\n",
       "      <td>1</td>\n",
       "      <td>[share]</td>\n",
       "    </tr>\n",
       "    <tr>\n",
       "      <th>2</th>\n",
       "      <td>3</td>\n",
       "      <td>moderator</td>\n",
       "      <td>Recomendeitor_Plus</td>\n",
       "      <td>[43, 84, 4]</td>\n",
       "      <td>210</td>\n",
       "      <td>[live, short, series]</td>\n",
       "      <td>[4.1, 4.5, 1.9]</td>\n",
       "      <td>3</td>\n",
       "      <td>188</td>\n",
       "      <td>Recomendeitor_Plus</td>\n",
       "      <td>3</td>\n",
       "      <td>[favorite]</td>\n",
       "    </tr>\n",
       "    <tr>\n",
       "      <th>3</th>\n",
       "      <td>4</td>\n",
       "      <td>admin</td>\n",
       "      <td>Recomendeitor_Plus</td>\n",
       "      <td>[8, 1]</td>\n",
       "      <td>254</td>\n",
       "      <td>[live, documentary]</td>\n",
       "      <td>[1.0, 4.4]</td>\n",
       "      <td>2</td>\n",
       "      <td>119</td>\n",
       "      <td>Recomendeitor</td>\n",
       "      <td>2</td>\n",
       "      <td>[favorite]</td>\n",
       "    </tr>\n",
       "    <tr>\n",
       "      <th>4</th>\n",
       "      <td>5</td>\n",
       "      <td>consumer</td>\n",
       "      <td>Recomendeitor</td>\n",
       "      <td>[168, 170, 4]</td>\n",
       "      <td>104</td>\n",
       "      <td>[movie, series, documentary]</td>\n",
       "      <td>[4.9, 3.0, 1.9]</td>\n",
       "      <td>3</td>\n",
       "      <td>199</td>\n",
       "      <td>Recomendeitor</td>\n",
       "      <td>3</td>\n",
       "      <td>[favorite]</td>\n",
       "    </tr>\n",
       "  </tbody>\n",
       "</table>\n",
       "</div>"
      ],
      "text/plain": [
       "   id_usuario tipo_usuario recomendacion_usuario          id_contenido  \\\n",
       "0           1    moderator    Recomendeitor_Plus  [71, 12, 18, 53, 62]   \n",
       "1           2    moderator         Recomendeitor                 [102]   \n",
       "2           3    moderator    Recomendeitor_Plus           [43, 84, 4]   \n",
       "3           4        admin    Recomendeitor_Plus                [8, 1]   \n",
       "4           5     consumer         Recomendeitor         [168, 170, 4]   \n",
       "\n",
       "   duracion_contenido                     tipo_contenido  \\\n",
       "0                1304  [live, short, documentary, movie]   \n",
       "1                  23                      [documentary]   \n",
       "2                 210              [live, short, series]   \n",
       "3                 254                [live, documentary]   \n",
       "4                 104       [movie, series, documentary]   \n",
       "\n",
       "        valoracion_contenido  numero_views  minutos_vistos  \\\n",
       "0  [1.1, 4.6, 1.7, 4.2, 4.7]            20            1380   \n",
       "1                      [2.2]             1             129   \n",
       "2            [4.1, 4.5, 1.9]             3             188   \n",
       "3                 [1.0, 4.4]             2             119   \n",
       "4            [4.9, 3.0, 1.9]             3             199   \n",
       "\n",
       "  recomendacion_views  numero_interaccion            tipo_interaccion  \n",
       "0  Recomendeitor_Plus                  20  [comment, favorite, share]  \n",
       "1       Recomendeitor                   1                     [share]  \n",
       "2  Recomendeitor_Plus                   3                  [favorite]  \n",
       "3       Recomendeitor                   2                  [favorite]  \n",
       "4       Recomendeitor                   3                  [favorite]  "
      ]
     },
     "execution_count": 13,
     "metadata": {},
     "output_type": "execute_result"
    }
   ],
   "source": [
    "df_usuarios.head(5)"
   ]
  },
  {
   "cell_type": "markdown",
   "metadata": {},
   "source": [
    "Creo una columna con la valoración media"
   ]
  },
  {
   "cell_type": "code",
   "execution_count": 14,
   "metadata": {},
   "outputs": [],
   "source": [
    "lista=[]\n",
    "for usuario in range(0, df_usuarios.shape[0]):\n",
    "    media=round(np.mean(df_usuarios[\"valoracion_contenido\"].values[usuario]),2)\n",
    "    lista.append(media)\n",
    "df_usuarios[\"valoracion_media\"]= pd.DataFrame(lista)   "
   ]
  },
  {
   "cell_type": "markdown",
   "metadata": {},
   "source": [
    "Creo una columna con el numero de tipos de contenido"
   ]
  },
  {
   "cell_type": "code",
   "execution_count": 15,
   "metadata": {},
   "outputs": [],
   "source": [
    "lista=[]\n",
    "for usuario in range(0, df_usuarios.shape[0]-1):\n",
    "    medida=df_usuarios[\"tipo_contenido\"].str.len()\n",
    "    lista.append(medida)\n",
    "df_usuarios[\"numero_tipos_contenido\"]= pd.DataFrame(lista[0])   "
   ]
  },
  {
   "cell_type": "markdown",
   "metadata": {},
   "source": [
    "Creo una columna con si se completó o no la visualización del contenido"
   ]
  },
  {
   "cell_type": "code",
   "execution_count": 16,
   "metadata": {},
   "outputs": [],
   "source": [
    "\n",
    "df_usuarios[\"contenido_completado\"] = df_usuarios.apply(f.asignar_visualizacion, axis=1)\n",
    "\n"
   ]
  },
  {
   "cell_type": "code",
   "execution_count": 17,
   "metadata": {},
   "outputs": [
    {
     "data": {
      "text/html": [
       "<div>\n",
       "<style scoped>\n",
       "    .dataframe tbody tr th:only-of-type {\n",
       "        vertical-align: middle;\n",
       "    }\n",
       "\n",
       "    .dataframe tbody tr th {\n",
       "        vertical-align: top;\n",
       "    }\n",
       "\n",
       "    .dataframe thead th {\n",
       "        text-align: right;\n",
       "    }\n",
       "</style>\n",
       "<table border=\"1\" class=\"dataframe\">\n",
       "  <thead>\n",
       "    <tr style=\"text-align: right;\">\n",
       "      <th></th>\n",
       "      <th>id_usuario</th>\n",
       "      <th>tipo_usuario</th>\n",
       "      <th>recomendacion_usuario</th>\n",
       "      <th>id_contenido</th>\n",
       "      <th>duracion_contenido</th>\n",
       "      <th>tipo_contenido</th>\n",
       "      <th>valoracion_contenido</th>\n",
       "      <th>numero_views</th>\n",
       "      <th>minutos_vistos</th>\n",
       "      <th>recomendacion_views</th>\n",
       "      <th>numero_interaccion</th>\n",
       "      <th>tipo_interaccion</th>\n",
       "      <th>valoracion_media</th>\n",
       "      <th>numero_tipos_contenido</th>\n",
       "      <th>contenido_completado</th>\n",
       "    </tr>\n",
       "  </thead>\n",
       "  <tbody>\n",
       "    <tr>\n",
       "      <th>138</th>\n",
       "      <td>172</td>\n",
       "      <td>consumer</td>\n",
       "      <td>Recomendeitor_Plus</td>\n",
       "      <td>[121, 108, 77]</td>\n",
       "      <td>181</td>\n",
       "      <td>[movie]</td>\n",
       "      <td>[4.6, 4.8, 1.6]</td>\n",
       "      <td>3</td>\n",
       "      <td>48</td>\n",
       "      <td>Recomendeitor_Plus</td>\n",
       "      <td>3</td>\n",
       "      <td>[favorite]</td>\n",
       "      <td>3.67</td>\n",
       "      <td>1</td>\n",
       "      <td>visualizacion incompleta</td>\n",
       "    </tr>\n",
       "    <tr>\n",
       "      <th>450</th>\n",
       "      <td>556</td>\n",
       "      <td>consumer</td>\n",
       "      <td>Recomendeitor_Plus</td>\n",
       "      <td>[140, 69, 125, 151]</td>\n",
       "      <td>982</td>\n",
       "      <td>[live, short, series, movie]</td>\n",
       "      <td>[3.0, 4.8, 2.2, 4.4]</td>\n",
       "      <td>8</td>\n",
       "      <td>714</td>\n",
       "      <td>Recomendeitor_Plus</td>\n",
       "      <td>8</td>\n",
       "      <td>[comment]</td>\n",
       "      <td>3.60</td>\n",
       "      <td>4</td>\n",
       "      <td>visualizacion incompleta</td>\n",
       "    </tr>\n",
       "    <tr>\n",
       "      <th>706</th>\n",
       "      <td>865</td>\n",
       "      <td>admin</td>\n",
       "      <td>Recomendeitor_Plus</td>\n",
       "      <td>[153, 29]</td>\n",
       "      <td>488</td>\n",
       "      <td>[live, movie]</td>\n",
       "      <td>[2.5, 4.2]</td>\n",
       "      <td>4</td>\n",
       "      <td>528</td>\n",
       "      <td>Recomendeitor_Plus</td>\n",
       "      <td>4</td>\n",
       "      <td>[share, favorite]</td>\n",
       "      <td>3.35</td>\n",
       "      <td>2</td>\n",
       "      <td>visualizacion completa</td>\n",
       "    </tr>\n",
       "  </tbody>\n",
       "</table>\n",
       "</div>"
      ],
      "text/plain": [
       "     id_usuario tipo_usuario recomendacion_usuario         id_contenido  \\\n",
       "138         172     consumer    Recomendeitor_Plus       [121, 108, 77]   \n",
       "450         556     consumer    Recomendeitor_Plus  [140, 69, 125, 151]   \n",
       "706         865        admin    Recomendeitor_Plus            [153, 29]   \n",
       "\n",
       "     duracion_contenido                tipo_contenido  valoracion_contenido  \\\n",
       "138                 181                       [movie]       [4.6, 4.8, 1.6]   \n",
       "450                 982  [live, short, series, movie]  [3.0, 4.8, 2.2, 4.4]   \n",
       "706                 488                 [live, movie]            [2.5, 4.2]   \n",
       "\n",
       "     numero_views  minutos_vistos recomendacion_views  numero_interaccion  \\\n",
       "138             3              48  Recomendeitor_Plus                   3   \n",
       "450             8             714  Recomendeitor_Plus                   8   \n",
       "706             4             528  Recomendeitor_Plus                   4   \n",
       "\n",
       "      tipo_interaccion valoracion_media  numero_tipos_contenido  \\\n",
       "138         [favorite]             3.67                       1   \n",
       "450          [comment]             3.60                       4   \n",
       "706  [share, favorite]             3.35                       2   \n",
       "\n",
       "         contenido_completado  \n",
       "138  visualizacion incompleta  \n",
       "450  visualizacion incompleta  \n",
       "706    visualizacion completa  "
      ]
     },
     "execution_count": 17,
     "metadata": {},
     "output_type": "execute_result"
    }
   ],
   "source": [
    "df_usuarios.sample(3)"
   ]
  },
  {
   "cell_type": "markdown",
   "metadata": {},
   "source": [
    "Creo una columna con la tasa de NO repetición"
   ]
  },
  {
   "cell_type": "code",
   "execution_count": 18,
   "metadata": {},
   "outputs": [],
   "source": [
    "lista=[]\n",
    "for usuario in range(0, df_usuarios.shape[0]-1):\n",
    "    medida=df_usuarios[\"id_contenido\"].str.len()\n",
    "\n",
    "    tasa= round(medida/df_usuarios[\"numero_views\"],2)\n",
    "    lista.append(tasa)\n",
    "df_usuarios[\"tasa_no_repeticion\"]= pd.DataFrame(lista[0])  "
   ]
  },
  {
   "cell_type": "markdown",
   "metadata": {},
   "source": [
    "Me he dado cuenta que algunos id_usuario ya faltaban en la base de datos como el 9, 15, 23 etc"
   ]
  },
  {
   "cell_type": "code",
   "execution_count": 19,
   "metadata": {},
   "outputs": [
    {
     "data": {
      "text/html": [
       "<div>\n",
       "<style scoped>\n",
       "    .dataframe tbody tr th:only-of-type {\n",
       "        vertical-align: middle;\n",
       "    }\n",
       "\n",
       "    .dataframe tbody tr th {\n",
       "        vertical-align: top;\n",
       "    }\n",
       "\n",
       "    .dataframe thead th {\n",
       "        text-align: right;\n",
       "    }\n",
       "</style>\n",
       "<table border=\"1\" class=\"dataframe\">\n",
       "  <thead>\n",
       "    <tr style=\"text-align: right;\">\n",
       "      <th></th>\n",
       "      <th>id_usuario</th>\n",
       "      <th>tipo_usuario</th>\n",
       "      <th>recomendacion_usuario</th>\n",
       "      <th>id_contenido</th>\n",
       "      <th>duracion_contenido</th>\n",
       "      <th>tipo_contenido</th>\n",
       "      <th>valoracion_contenido</th>\n",
       "      <th>numero_views</th>\n",
       "      <th>id_usuario_views</th>\n",
       "      <th>id_contenido_views</th>\n",
       "      <th>minutos_vistos</th>\n",
       "      <th>recomendacion_views</th>\n",
       "      <th>numero_interaccion</th>\n",
       "      <th>id_usuario_interaccion</th>\n",
       "      <th>id_contenido_interaccion</th>\n",
       "      <th>tipo_interaccion</th>\n",
       "    </tr>\n",
       "  </thead>\n",
       "  <tbody>\n",
       "  </tbody>\n",
       "</table>\n",
       "</div>"
      ],
      "text/plain": [
       "Empty DataFrame\n",
       "Columns: [id_usuario, tipo_usuario, recomendacion_usuario, id_contenido, duracion_contenido, tipo_contenido, valoracion_contenido, numero_views, id_usuario_views, id_contenido_views, minutos_vistos, recomendacion_views, numero_interaccion, id_usuario_interaccion, id_contenido_interaccion, tipo_interaccion]\n",
       "Index: []"
      ]
     },
     "execution_count": 19,
     "metadata": {},
     "output_type": "execute_result"
    }
   ],
   "source": [
    "df[df[\"id_usuario\"]== 23] "
   ]
  },
  {
   "cell_type": "code",
   "execution_count": 20,
   "metadata": {},
   "outputs": [],
   "source": [
    "df_usuarios[\"valoracion_media\"]=df_usuarios[\"valoracion_media\"].astype(float)"
   ]
  },
  {
   "cell_type": "code",
   "execution_count": 21,
   "metadata": {},
   "outputs": [
    {
     "name": "stdout",
     "output_type": "stream",
     "text": [
      "<class 'pandas.core.frame.DataFrame'>\n",
      "RangeIndex: 824 entries, 0 to 823\n",
      "Data columns (total 16 columns):\n",
      " #   Column                  Non-Null Count  Dtype  \n",
      "---  ------                  --------------  -----  \n",
      " 0   id_usuario              824 non-null    int64  \n",
      " 1   tipo_usuario            824 non-null    object \n",
      " 2   recomendacion_usuario   824 non-null    object \n",
      " 3   id_contenido            824 non-null    object \n",
      " 4   duracion_contenido      824 non-null    int64  \n",
      " 5   tipo_contenido          824 non-null    object \n",
      " 6   valoracion_contenido    824 non-null    object \n",
      " 7   numero_views            824 non-null    int64  \n",
      " 8   minutos_vistos          824 non-null    int64  \n",
      " 9   recomendacion_views     824 non-null    object \n",
      " 10  numero_interaccion      824 non-null    int64  \n",
      " 11  tipo_interaccion        824 non-null    object \n",
      " 12  valoracion_media        824 non-null    float64\n",
      " 13  numero_tipos_contenido  824 non-null    int64  \n",
      " 14  contenido_completado    824 non-null    object \n",
      " 15  tasa_no_repeticion      824 non-null    float64\n",
      "dtypes: float64(2), int64(6), object(8)\n",
      "memory usage: 103.1+ KB\n"
     ]
    }
   ],
   "source": [
    "df_usuarios.info()"
   ]
  },
  {
   "cell_type": "code",
   "execution_count": 22,
   "metadata": {},
   "outputs": [
    {
     "data": {
      "text/html": [
       "<div>\n",
       "<style scoped>\n",
       "    .dataframe tbody tr th:only-of-type {\n",
       "        vertical-align: middle;\n",
       "    }\n",
       "\n",
       "    .dataframe tbody tr th {\n",
       "        vertical-align: top;\n",
       "    }\n",
       "\n",
       "    .dataframe thead th {\n",
       "        text-align: right;\n",
       "    }\n",
       "</style>\n",
       "<table border=\"1\" class=\"dataframe\">\n",
       "  <thead>\n",
       "    <tr style=\"text-align: right;\">\n",
       "      <th></th>\n",
       "      <th>count</th>\n",
       "      <th>mean</th>\n",
       "      <th>std</th>\n",
       "      <th>min</th>\n",
       "      <th>25%</th>\n",
       "      <th>50%</th>\n",
       "      <th>75%</th>\n",
       "      <th>max</th>\n",
       "    </tr>\n",
       "  </thead>\n",
       "  <tbody>\n",
       "    <tr>\n",
       "      <th>id_usuario</th>\n",
       "      <td>824.0</td>\n",
       "      <td>506.538835</td>\n",
       "      <td>290.147578</td>\n",
       "      <td>1.00</td>\n",
       "      <td>256.7500</td>\n",
       "      <td>504.500</td>\n",
       "      <td>757.25</td>\n",
       "      <td>999.0</td>\n",
       "    </tr>\n",
       "    <tr>\n",
       "      <th>duracion_contenido</th>\n",
       "      <td>824.0</td>\n",
       "      <td>680.180825</td>\n",
       "      <td>591.998826</td>\n",
       "      <td>22.00</td>\n",
       "      <td>267.7500</td>\n",
       "      <td>513.500</td>\n",
       "      <td>951.25</td>\n",
       "      <td>5873.0</td>\n",
       "    </tr>\n",
       "    <tr>\n",
       "      <th>numero_views</th>\n",
       "      <td>824.0</td>\n",
       "      <td>7.297330</td>\n",
       "      <td>5.882006</td>\n",
       "      <td>1.00</td>\n",
       "      <td>3.0000</td>\n",
       "      <td>6.000</td>\n",
       "      <td>10.00</td>\n",
       "      <td>49.0</td>\n",
       "    </tr>\n",
       "    <tr>\n",
       "      <th>minutos_vistos</th>\n",
       "      <td>824.0</td>\n",
       "      <td>637.940534</td>\n",
       "      <td>555.138386</td>\n",
       "      <td>2.00</td>\n",
       "      <td>250.0000</td>\n",
       "      <td>485.000</td>\n",
       "      <td>862.50</td>\n",
       "      <td>4515.0</td>\n",
       "    </tr>\n",
       "    <tr>\n",
       "      <th>numero_interaccion</th>\n",
       "      <td>824.0</td>\n",
       "      <td>7.297330</td>\n",
       "      <td>5.882006</td>\n",
       "      <td>1.00</td>\n",
       "      <td>3.0000</td>\n",
       "      <td>6.000</td>\n",
       "      <td>10.00</td>\n",
       "      <td>49.0</td>\n",
       "    </tr>\n",
       "    <tr>\n",
       "      <th>valoracion_media</th>\n",
       "      <td>824.0</td>\n",
       "      <td>3.046117</td>\n",
       "      <td>0.755837</td>\n",
       "      <td>1.00</td>\n",
       "      <td>2.5775</td>\n",
       "      <td>3.075</td>\n",
       "      <td>3.58</td>\n",
       "      <td>5.0</td>\n",
       "    </tr>\n",
       "    <tr>\n",
       "      <th>numero_tipos_contenido</th>\n",
       "      <td>824.0</td>\n",
       "      <td>2.360437</td>\n",
       "      <td>1.039879</td>\n",
       "      <td>1.00</td>\n",
       "      <td>2.0000</td>\n",
       "      <td>2.000</td>\n",
       "      <td>3.00</td>\n",
       "      <td>5.0</td>\n",
       "    </tr>\n",
       "    <tr>\n",
       "      <th>tasa_no_repeticion</th>\n",
       "      <td>824.0</td>\n",
       "      <td>0.569660</td>\n",
       "      <td>0.299169</td>\n",
       "      <td>0.12</td>\n",
       "      <td>0.3300</td>\n",
       "      <td>0.500</td>\n",
       "      <td>1.00</td>\n",
       "      <td>1.0</td>\n",
       "    </tr>\n",
       "  </tbody>\n",
       "</table>\n",
       "</div>"
      ],
      "text/plain": [
       "                        count        mean         std    min       25%  \\\n",
       "id_usuario              824.0  506.538835  290.147578   1.00  256.7500   \n",
       "duracion_contenido      824.0  680.180825  591.998826  22.00  267.7500   \n",
       "numero_views            824.0    7.297330    5.882006   1.00    3.0000   \n",
       "minutos_vistos          824.0  637.940534  555.138386   2.00  250.0000   \n",
       "numero_interaccion      824.0    7.297330    5.882006   1.00    3.0000   \n",
       "valoracion_media        824.0    3.046117    0.755837   1.00    2.5775   \n",
       "numero_tipos_contenido  824.0    2.360437    1.039879   1.00    2.0000   \n",
       "tasa_no_repeticion      824.0    0.569660    0.299169   0.12    0.3300   \n",
       "\n",
       "                            50%     75%     max  \n",
       "id_usuario              504.500  757.25   999.0  \n",
       "duracion_contenido      513.500  951.25  5873.0  \n",
       "numero_views              6.000   10.00    49.0  \n",
       "minutos_vistos          485.000  862.50  4515.0  \n",
       "numero_interaccion        6.000   10.00    49.0  \n",
       "valoracion_media          3.075    3.58     5.0  \n",
       "numero_tipos_contenido    2.000    3.00     5.0  \n",
       "tasa_no_repeticion        0.500    1.00     1.0  "
      ]
     },
     "execution_count": 22,
     "metadata": {},
     "output_type": "execute_result"
    }
   ],
   "source": [
    "df_usuarios.describe().T"
   ]
  },
  {
   "cell_type": "code",
   "execution_count": 23,
   "metadata": {},
   "outputs": [
    {
     "data": {
      "text/html": [
       "<div>\n",
       "<style scoped>\n",
       "    .dataframe tbody tr th:only-of-type {\n",
       "        vertical-align: middle;\n",
       "    }\n",
       "\n",
       "    .dataframe tbody tr th {\n",
       "        vertical-align: top;\n",
       "    }\n",
       "\n",
       "    .dataframe thead th {\n",
       "        text-align: right;\n",
       "    }\n",
       "</style>\n",
       "<table border=\"1\" class=\"dataframe\">\n",
       "  <thead>\n",
       "    <tr style=\"text-align: right;\">\n",
       "      <th></th>\n",
       "      <th>count</th>\n",
       "      <th>unique</th>\n",
       "      <th>top</th>\n",
       "      <th>freq</th>\n",
       "    </tr>\n",
       "  </thead>\n",
       "  <tbody>\n",
       "    <tr>\n",
       "      <th>tipo_usuario</th>\n",
       "      <td>824</td>\n",
       "      <td>4</td>\n",
       "      <td>content_creator</td>\n",
       "      <td>217</td>\n",
       "    </tr>\n",
       "    <tr>\n",
       "      <th>recomendacion_usuario</th>\n",
       "      <td>824</td>\n",
       "      <td>2</td>\n",
       "      <td>Recomendeitor</td>\n",
       "      <td>432</td>\n",
       "    </tr>\n",
       "    <tr>\n",
       "      <th>id_contenido</th>\n",
       "      <td>824</td>\n",
       "      <td>787</td>\n",
       "      <td>[166]</td>\n",
       "      <td>3</td>\n",
       "    </tr>\n",
       "    <tr>\n",
       "      <th>tipo_contenido</th>\n",
       "      <td>824</td>\n",
       "      <td>38</td>\n",
       "      <td>[short, series]</td>\n",
       "      <td>48</td>\n",
       "    </tr>\n",
       "    <tr>\n",
       "      <th>valoracion_contenido</th>\n",
       "      <td>824</td>\n",
       "      <td>685</td>\n",
       "      <td>[3.9]</td>\n",
       "      <td>10</td>\n",
       "    </tr>\n",
       "    <tr>\n",
       "      <th>recomendacion_views</th>\n",
       "      <td>824</td>\n",
       "      <td>2</td>\n",
       "      <td>Recomendeitor_Plus</td>\n",
       "      <td>425</td>\n",
       "    </tr>\n",
       "    <tr>\n",
       "      <th>tipo_interaccion</th>\n",
       "      <td>824</td>\n",
       "      <td>24</td>\n",
       "      <td>[favorite]</td>\n",
       "      <td>97</td>\n",
       "    </tr>\n",
       "    <tr>\n",
       "      <th>contenido_completado</th>\n",
       "      <td>824</td>\n",
       "      <td>2</td>\n",
       "      <td>visualizacion incompleta</td>\n",
       "      <td>457</td>\n",
       "    </tr>\n",
       "  </tbody>\n",
       "</table>\n",
       "</div>"
      ],
      "text/plain": [
       "                      count unique                       top freq\n",
       "tipo_usuario            824      4           content_creator  217\n",
       "recomendacion_usuario   824      2             Recomendeitor  432\n",
       "id_contenido            824    787                     [166]    3\n",
       "tipo_contenido          824     38           [short, series]   48\n",
       "valoracion_contenido    824    685                     [3.9]   10\n",
       "recomendacion_views     824      2        Recomendeitor_Plus  425\n",
       "tipo_interaccion        824     24                [favorite]   97\n",
       "contenido_completado    824      2  visualizacion incompleta  457"
      ]
     },
     "execution_count": 23,
     "metadata": {},
     "output_type": "execute_result"
    }
   ],
   "source": [
    "df_usuarios.describe(include=\"O\").T"
   ]
  },
  {
   "cell_type": "markdown",
   "metadata": {},
   "source": [
    "**IMPORTANTE**  \n",
    "La columna contenido completado la he transformado a 1 y 0 para poder inspeccionar su normalidad. 1 será VISUALIZACIÓN COMPLETA y 0 será VISUALIZACIÓN INCOMPLETA"
   ]
  },
  {
   "cell_type": "code",
   "execution_count": 24,
   "metadata": {},
   "outputs": [],
   "source": [
    "df_usuarios[\"contenido_completado\"]=df_usuarios[\"contenido_completado\"].replace(\"visualizacion incompleta\", 0).replace(\"visualizacion completa\", 1)"
   ]
  },
  {
   "cell_type": "markdown",
   "metadata": {},
   "source": [
    "No hay duplicados porque cada fila corresponde a un usuario distinto"
   ]
  },
  {
   "cell_type": "code",
   "execution_count": 25,
   "metadata": {},
   "outputs": [
    {
     "data": {
      "text/plain": [
       "recomendacion_usuario\n",
       "Recomendeitor         432\n",
       "Recomendeitor_Plus    392\n",
       "Name: count, dtype: int64"
      ]
     },
     "execution_count": 25,
     "metadata": {},
     "output_type": "execute_result"
    }
   ],
   "source": [
    "df_usuarios[\"recomendacion_usuario\"].value_counts()"
   ]
  },
  {
   "cell_type": "code",
   "execution_count": 26,
   "metadata": {},
   "outputs": [
    {
     "data": {
      "text/plain": [
       "recomendacion_usuario\n",
       "Recomendeitor         52.43\n",
       "Recomendeitor_Plus    47.57\n",
       "Name: proportion, dtype: float64"
      ]
     },
     "execution_count": 26,
     "metadata": {},
     "output_type": "execute_result"
    }
   ],
   "source": [
    "round(df_usuarios[\"recomendacion_usuario\"].value_counts(normalize=True)*100, 2)"
   ]
  },
  {
   "cell_type": "markdown",
   "metadata": {},
   "source": [
    "Son bastante parecidos pero para algun test concreto se necesita que ambas tengan el mismo tamaño muestral"
   ]
  },
  {
   "cell_type": "markdown",
   "metadata": {},
   "source": [
    "Dejo por aquí esto de un lab por si me es útil en algún momento"
   ]
  },
  {
   "cell_type": "markdown",
   "metadata": {},
   "source": [
    "Como aun rellenando los nulos quedan diferencias en el tamaño de las muestras, re muestreamos aleatoriamente de nuestras muestras para conseguir dos de igual tamaño muestral y ya sacamos el test de Wilcoxon"
   ]
  },
  {
   "cell_type": "code",
   "execution_count": 27,
   "metadata": {},
   "outputs": [],
   "source": [
    "# plus = df_usuarios[df_usuarios[\"recomendacion_usuario\"] == \"Recomendeitor_Plus\"][\"Salary\"]\n",
    "# normal = df_usuarios[df_usuarios[\"recomendacion_usuario\"] == \"Recomendeitor\"][\"Salary\"]\n",
    "\n",
    "# min_length = min(len(plus), len(normal))\n",
    "# plus = plus.sample(n=min_length, random_state=1)\n",
    "# normal = normal.sample(n=min_length, random_state=1)\n",
    "\n",
    "# estadistico,p_value = stats.wilcoxon(plus, normal)\n",
    "# if p_value >= 0.05:\n",
    "#     print(\"No hay diferencia\")\n",
    "#     print(\".................\")\n",
    "# else:\n",
    "#     print(\"Hay diferencia\")\n",
    "#     print(\".................\")\n"
   ]
  },
  {
   "cell_type": "markdown",
   "metadata": {},
   "source": [
    "Voy a tomar como grupo de control y tratamiento la columna de recomendación usuario y voy a ignorar por el momento la de recomendación views."
   ]
  },
  {
   "cell_type": "markdown",
   "metadata": {},
   "source": [
    "COMENZAMOS A EVALUAR LA NORMALIDAD DE LAS VARIABLES QUE USARÉ (Kolmogorov por el tamaño muestral)"
   ]
  },
  {
   "cell_type": "markdown",
   "metadata": {},
   "source": [
    "Contenido completado"
   ]
  },
  {
   "cell_type": "code",
   "execution_count": 28,
   "metadata": {},
   "outputs": [
    {
     "data": {
      "image/png": "[encoded data removed]",
      "text/plain": [
       "<Figure size 1000x500 with 2 Axes>"
      ]
     },
     "metadata": {},
     "output_type": "display_data"
    }
   ],
   "source": [
    "fig, axes = plt.subplots(nrows=1, ncols=2, figsize=(10, 5), sharey=True)\n",
    "axes = axes.flat\n",
    "sns.histplot(x=\"contenido_completado\", hue=\"contenido_completado\", data=df_usuarios[df_usuarios[\"recomendacion_usuario\"]== \"Recomendeitor_Plus\"], ax= axes[0])\n",
    "axes[0].set_xlabel(\"Recomendeitor_Plus\")\n",
    "sns.histplot(x=\"contenido_completado\",hue=\"contenido_completado\", data=df_usuarios[df_usuarios[\"recomendacion_usuario\"]== \"Recomendeitor\"], ax= axes[1])\n",
    "axes[1].set_xlabel(\"Recomendeitor\")\n",
    "fig.suptitle(\"Distribución de visualizaciones finalizadas y no finalizadas\")\n",
    "plt.tight_layout()\n"
   ]
  },
  {
   "cell_type": "code",
   "execution_count": 29,
   "metadata": {},
   "outputs": [
    {
     "name": "stdout",
     "output_type": "stream",
     "text": [
      "la metrica contenido_completado para Recomendeitor_Plus sigue una distribución normal según el test de Kolmogorov-Smirnov. Esta afirmación es False\n",
      "la metrica contenido_completado para Recomendeitor sigue una distribución normal según el test de Kolmogorov-Smirnov. Esta afirmación es False\n"
     ]
    }
   ],
   "source": [
    "\n",
    "f.usar_kolmogorov(df_usuarios,\"recomendacion_usuario\" , \"contenido_completado\")"
   ]
  },
  {
   "cell_type": "markdown",
   "metadata": {},
   "source": [
    "Numero views"
   ]
  },
  {
   "cell_type": "code",
   "execution_count": 30,
   "metadata": {},
   "outputs": [
    {
     "data": {
      "image/png": "[encoded data removed]",
      "text/plain": [
       "<Figure size 1000x500 with 2 Axes>"
      ]
     },
     "metadata": {},
     "output_type": "display_data"
    }
   ],
   "source": [
    "f.histograma_normal(df_usuarios,\"numero_views\", \"Distribución de cantidad de contenidos consumidos\", \"Recomendeitor\", \"Recomendeitor_Plus\")"
   ]
  },
  {
   "cell_type": "code",
   "execution_count": 31,
   "metadata": {},
   "outputs": [
    {
     "name": "stdout",
     "output_type": "stream",
     "text": [
      "la metrica numero_views para Recomendeitor_Plus sigue una distribución normal según el test de Kolmogorov-Smirnov. Esta afirmación es False\n",
      "la metrica numero_views para Recomendeitor sigue una distribución normal según el test de Kolmogorov-Smirnov. Esta afirmación es False\n"
     ]
    }
   ],
   "source": [
    "\n",
    "f.usar_kolmogorov(df_usuarios,\"recomendacion_usuario\" , \"numero_views\")"
   ]
  },
  {
   "cell_type": "markdown",
   "metadata": {},
   "source": [
    "Duracion contenido"
   ]
  },
  {
   "cell_type": "code",
   "execution_count": 32,
   "metadata": {},
   "outputs": [
    {
     "data": {
      "image/png": "[encoded data removed]",
      "text/plain": [
       "<Figure size 1000x500 with 2 Axes>"
      ]
     },
     "metadata": {},
     "output_type": "display_data"
    }
   ],
   "source": [
    "f.histograma_normal(df_usuarios,\"duracion_contenido\", \"Distribución de duracion del contenido\", \"Recomendeitor\", \"Recomendeitor_Plus\")"
   ]
  },
  {
   "cell_type": "code",
   "execution_count": 33,
   "metadata": {},
   "outputs": [
    {
     "name": "stdout",
     "output_type": "stream",
     "text": [
      "la metrica duracion_contenido para Recomendeitor_Plus sigue una distribución normal según el test de Kolmogorov-Smirnov. Esta afirmación es False\n",
      "la metrica duracion_contenido para Recomendeitor sigue una distribución normal según el test de Kolmogorov-Smirnov. Esta afirmación es False\n"
     ]
    }
   ],
   "source": [
    "\n",
    "f.usar_kolmogorov(df_usuarios,\"recomendacion_usuario\" , \"duracion_contenido\")"
   ]
  },
  {
   "cell_type": "markdown",
   "metadata": {},
   "source": [
    "Numero interacciones\n"
   ]
  },
  {
   "cell_type": "code",
   "execution_count": 34,
   "metadata": {},
   "outputs": [
    {
     "data": {
      "image/png": "[encoded data removed]",
      "text/plain": [
       "<Figure size 1000x500 with 2 Axes>"
      ]
     },
     "metadata": {},
     "output_type": "display_data"
    }
   ],
   "source": [
    "f.histograma_normal(df_usuarios,\"numero_interaccion\", \"Distribución de numero de interacciones con el contenido\", \"Recomendeitor\", \"Recomendeitor_Plus\")"
   ]
  },
  {
   "cell_type": "code",
   "execution_count": 35,
   "metadata": {},
   "outputs": [
    {
     "name": "stdout",
     "output_type": "stream",
     "text": [
      "la metrica numero_interaccion para Recomendeitor_Plus sigue una distribución normal según el test de Kolmogorov-Smirnov. Esta afirmación es False\n",
      "la metrica numero_interaccion para Recomendeitor sigue una distribución normal según el test de Kolmogorov-Smirnov. Esta afirmación es False\n"
     ]
    }
   ],
   "source": [
    "\n",
    "f.usar_kolmogorov(df_usuarios,\"recomendacion_usuario\" , \"numero_interaccion\")"
   ]
  },
  {
   "cell_type": "markdown",
   "metadata": {},
   "source": [
    "Tasa no repeticion"
   ]
  },
  {
   "cell_type": "code",
   "execution_count": 36,
   "metadata": {},
   "outputs": [
    {
     "data": {
      "image/png": "[encoded data removed]",
      "text/plain": [
       "<Figure size 1000x500 with 2 Axes>"
      ]
     },
     "metadata": {},
     "output_type": "display_data"
    }
   ],
   "source": [
    "f.histograma_normal(df_usuarios,\"tasa_no_repeticion\", \"Distribución de la tasa de no repeticion\", \"Recomendeitor\", \"Recomendeitor_Plus\")"
   ]
  },
  {
   "cell_type": "code",
   "execution_count": 37,
   "metadata": {},
   "outputs": [
    {
     "name": "stdout",
     "output_type": "stream",
     "text": [
      "la metrica tasa_no_repeticion para Recomendeitor_Plus sigue una distribución normal según el test de Kolmogorov-Smirnov. Esta afirmación es False\n",
      "la metrica tasa_no_repeticion para Recomendeitor sigue una distribución normal según el test de Kolmogorov-Smirnov. Esta afirmación es False\n"
     ]
    }
   ],
   "source": [
    "\n",
    "f.usar_kolmogorov(df_usuarios,\"recomendacion_usuario\" , \"tasa_no_repeticion\")"
   ]
  },
  {
   "cell_type": "markdown",
   "metadata": {},
   "source": [
    "Numero tipos de contenido"
   ]
  },
  {
   "cell_type": "code",
   "execution_count": 38,
   "metadata": {},
   "outputs": [
    {
     "data": {
      "image/png": "[encoded data removed]",
      "text/plain": [
       "<Figure size 1000x500 with 2 Axes>"
      ]
     },
     "metadata": {},
     "output_type": "display_data"
    }
   ],
   "source": [
    "f.histograma_normal(df_usuarios,\"numero_tipos_contenido\", \"Distribución de las categorías de contenidos consumidos\", \"Recomendeitor\", \"Recomendeitor_Plus\")"
   ]
  },
  {
   "cell_type": "code",
   "execution_count": 39,
   "metadata": {},
   "outputs": [
    {
     "name": "stdout",
     "output_type": "stream",
     "text": [
      "la metrica numero_tipos_contenido para Recomendeitor_Plus sigue una distribución normal según el test de Kolmogorov-Smirnov. Esta afirmación es False\n",
      "la metrica numero_tipos_contenido para Recomendeitor sigue una distribución normal según el test de Kolmogorov-Smirnov. Esta afirmación es False\n"
     ]
    }
   ],
   "source": [
    "\n",
    "f.usar_kolmogorov(df_usuarios,\"recomendacion_usuario\" , \"numero_tipos_contenido\")"
   ]
  },
  {
   "cell_type": "markdown",
   "metadata": {},
   "source": [
    "Valoracion media"
   ]
  },
  {
   "cell_type": "code",
   "execution_count": 40,
   "metadata": {},
   "outputs": [
    {
     "data": {
      "image/png": "[encoded data removed]",
      "text/plain": [
       "<Figure size 1000x500 with 2 Axes>"
      ]
     },
     "metadata": {},
     "output_type": "display_data"
    }
   ],
   "source": [
    "f.histograma_normal(df_usuarios,\"valoracion_media\", \"Distribución de la valoracion media\", \"Recomendeitor\", \"Recomendeitor_Plus\")"
   ]
  },
  {
   "cell_type": "code",
   "execution_count": 41,
   "metadata": {},
   "outputs": [
    {
     "name": "stdout",
     "output_type": "stream",
     "text": [
      "la metrica valoracion_media para Recomendeitor_Plus sigue una distribución normal según el test de Kolmogorov-Smirnov. Esta afirmación es True\n",
      "la metrica valoracion_media para Recomendeitor sigue una distribución normal según el test de Kolmogorov-Smirnov. Esta afirmación es True\n"
     ]
    }
   ],
   "source": [
    "\n",
    "f.usar_kolmogorov(df_usuarios,\"recomendacion_usuario\" , \"valoracion_media\")"
   ]
  },
  {
   "cell_type": "markdown",
   "metadata": {},
   "source": [
    "HEMOS PODIDO COMPROBAR COMO LA ÚNICA DISTRIBUCIÓN NORMAL ES LA DE LA VALORACION MEDIA CON LO QUE VAMOS A EVALUAR SU HOMOCEDASTICIDAD"
   ]
  },
  {
   "cell_type": "code",
   "execution_count": 42,
   "metadata": {},
   "outputs": [
    {
     "name": "stdout",
     "output_type": "stream",
     "text": [
      "la metrica valoracion_media para Recomendeitor es homocedástica según el test de Bartlett. Esta afirmación es True con p-value de 0.6328224267237184\n"
     ]
    }
   ],
   "source": [
    "\n",
    "f.usar_bartlett(df_usuarios, \"recomendacion_usuario\", \"valoracion_media\")"
   ]
  },
  {
   "cell_type": "markdown",
   "metadata": {},
   "source": [
    "EFECTIVAMENTE TAMBIÉN ES HOMOCEDÁSTICA CON LO QUE DADO QUE LA INDEPENDENCIA YA SE DA POR HECHA AL SER USUARIOS INDEPENDIENTES, PASAMOS A USAR UNA T DE STUDENT "
   ]
  },
  {
   "cell_type": "code",
   "execution_count": 43,
   "metadata": {},
   "outputs": [
    {
     "name": "stdout",
     "output_type": "stream",
     "text": [
      "Dado que el p_value es 0.07027134138285011, no hay evidencia suficiente para rechazar Ho con lo que no hay diferencia entre grupos de recomendacion_usuario para valoracion_media\n"
     ]
    }
   ],
   "source": [
    "f.usar_ttest(df_usuarios, \"recomendacion_usuario\", \"valoracion_media\")"
   ]
  },
  {
   "cell_type": "code",
   "execution_count": 44,
   "metadata": {},
   "outputs": [
    {
     "data": {
      "image/png": "[encoded data removed]",
      "text/plain": [
       "<Figure size 800x500 with 1 Axes>"
      ]
     },
     "metadata": {},
     "output_type": "display_data"
    }
   ],
   "source": [
    "f.graph_diferencias_entre_grupos(\"recomendacion_usuario\",\"valoracion_media\",df_usuarios,\"mako\",\"Diferencias en la valoración media de contenido entre grupos\",\"Valoración media\")\n"
   ]
  },
  {
   "cell_type": "markdown",
   "metadata": {},
   "source": [
    "Con esto concluimos que no hay diferencias en la valoración media de los contenidos entre el grupo de control (recomendeitor) y el de tratamiento (recomendeitor_Plus)."
   ]
  },
  {
   "cell_type": "markdown",
   "metadata": {},
   "source": [
    "AHORA VAMOS A GESTIONAR TODAS LAS NO PARAMETRICAS EMPEZANDO POR UNA DE LAS MÁS PECULIARES"
   ]
  },
  {
   "cell_type": "markdown",
   "metadata": {},
   "source": [
    "Contenido completado"
   ]
  },
  {
   "cell_type": "code",
   "execution_count": 45,
   "metadata": {},
   "outputs": [
    {
     "name": "stdout",
     "output_type": "stream",
     "text": [
      "la metrica contenido_completado para Recomendeitor_Plus sigue una distribución normal según el test de Kolmogorov-Smirnov. Esta afirmación es False\n",
      "la metrica contenido_completado para Recomendeitor sigue una distribución normal según el test de Kolmogorov-Smirnov. Esta afirmación es False\n"
     ]
    }
   ],
   "source": [
    "f.usar_kolmogorov(df_usuarios,\"recomendacion_usuario\" , \"contenido_completado\")"
   ]
  },
  {
   "cell_type": "code",
   "execution_count": 46,
   "metadata": {},
   "outputs": [
    {
     "name": "stdout",
     "output_type": "stream",
     "text": [
      "Dado que el p_value es 0.6141400619265027, no hay evidencia suficiente para rechazar Ho con lo que no hay diferencia entre grupos de recomendacion_usuario para el contenido_completado\n"
     ]
    }
   ],
   "source": [
    "#Uso un Z-Score porque la variable es no normal, no homocedástica y tiene 0 y 1.\n",
    "\n",
    "df_test=df_usuarios[df_usuarios[\"recomendacion_usuario\"]== \"Recomendeitor_Plus\"]\n",
    "df_control=df_usuarios[df_usuarios[\"recomendacion_usuario\"]== \"Recomendeitor\"]\n",
    "\n",
    "tamanio_muestral=[df_control.shape[0], df_test.shape[0]]\n",
    "convertidos= [df_control[\"contenido_completado\"].sum(), df_test[\"contenido_completado\"].sum()]\n",
    "estadistico,p_value=proportions_ztest(convertidos, tamanio_muestral)  #El segundo es el p-value\n",
    "if p_value >= 0.05:\n",
    "    print(f\"Dado que el p_value es {p_value}, no hay evidencia suficiente para rechazar Ho con lo que no hay diferencia entre grupos de recomendacion_usuario para el contenido_completado\")\n",
    "else:\n",
    "     print(f\"Dado que el p_value es {p_value}, hay evidencia suficiente para rechazar Ho con lo que hay diferencia entre grupos de recomendacion_usuario para el contenido_completado\")"
   ]
  },
  {
   "cell_type": "code",
   "execution_count": 47,
   "metadata": {},
   "outputs": [
    {
     "data": {
      "image/png": "[encoded data removed]",
      "text/plain": [
       "<Figure size 800x500 with 1 Axes>"
      ]
     },
     "metadata": {},
     "output_type": "display_data"
    }
   ],
   "source": [
    "f.graph_diferencias_entre_grupos(\"recomendacion_usuario\",\"contenido_completado\",df_usuarios,\"mako\",\"Diferencias en la proporción media de contenido completado entre grupos\",\"Proporción media de contenido completado\")\n"
   ]
  },
  {
   "cell_type": "markdown",
   "metadata": {},
   "source": [
    "Con esto concluimos que no hay diferencias en la proporción de contenido completado entre el grupo de control (recomendeitor) y el de tratamiento (recomendeitor_Plus)."
   ]
  },
  {
   "cell_type": "markdown",
   "metadata": {},
   "source": []
  }
 ],
 "metadata": {
  "kernelspec": {
   "display_name": "Python 3",
   "language": "python",
   "name": "python3"
  },
  "language_info": {
   "codemirror_mode": {
    "name": "ipython",
    "version": 3
   },
   "file_extension": ".py",
   "mimetype": "text/x-python",
   "name": "python",
   "nbconvert_exporter": "python",
   "pygments_lexer": "ipython3",
   "version": "3.11.9"
  }
 },
 "nbformat": 4,
 "nbformat_minor": 2
}
